{
 "cells": [
  {
   "cell_type": "code",
   "execution_count": 1,
   "metadata": {},
   "outputs": [
    {
     "name": "stderr",
     "output_type": "stream",
     "text": [
      "/Users/John/python_project/deeplearning/venv/lib/python3.6/site-packages/h5py/__init__.py:36: FutureWarning: Conversion of the second argument of issubdtype from `float` to `np.floating` is deprecated. In future, it will be treated as `np.float64 == np.dtype(float).type`.\n",
      "  from ._conv import register_converters as _register_converters\n"
     ]
    }
   ],
   "source": [
    "import tensorflow as tf\n",
    "import numpy as np"
   ]
  },
  {
   "cell_type": "code",
   "execution_count": 2,
   "metadata": {},
   "outputs": [],
   "source": [
    "# create data\n",
    "x_data = np.random.rand(100).astype(np.float32)\n",
    "y_data = x_data * 0.1 + 0.3"
   ]
  },
  {
   "cell_type": "code",
   "execution_count": 3,
   "metadata": {},
   "outputs": [],
   "source": [
    "# 搭建模型\n",
    "Weights = tf.Variable(tf.random_uniform([1], -1.0, 1.0))\n",
    "biases = tf.Variable(tf.zeros([1]))\n",
    "y = Weights * x_data + biases\n",
    "\n",
    "# 计算误差\n",
    "loss = tf.reduce_mean(tf.square(y - y_data))\n",
    "\n",
    "# 传播误差\n",
    "optimizer = tf.train.GradientDescentOptimizer(0.5)\n",
    "train = optimizer.minimize(loss)"
   ]
  },
  {
   "cell_type": "code",
   "execution_count": 4,
   "metadata": {},
   "outputs": [
    {
     "name": "stdout",
     "output_type": "stream",
     "text": [
      "0 [0.60278213] [0.02037982]\n",
      "20 [0.2467558] [0.21815768]\n",
      "40 [0.1428641] [0.2760957]\n",
      "60 [0.11251967] [0.29301807]\n",
      "80 [0.10365671] [0.29796076]\n",
      "100 [0.10106803] [0.29940438]\n",
      "120 [0.10031196] [0.29982603]\n",
      "140 [0.10009111] [0.2999492]\n",
      "160 [0.1000266] [0.29998517]\n",
      "180 [0.10000777] [0.2999957]\n"
     ]
    }
   ],
   "source": [
    "# 训练\n",
    "init = tf.global_variables_initializer()\n",
    "sess = tf.Session()\n",
    "sess.run(init)      #初始化这个\n",
    "for step in range(200):\n",
    "    sess.run(train)\n",
    "    if step % 20 == 0:\n",
    "        print(step, sess.run(Weights), sess.run(biases))\n"
   ]
  },
  {
   "cell_type": "code",
   "execution_count": 5,
   "metadata": {},
   "outputs": [
    {
     "name": "stdout",
     "output_type": "stream",
     "text": [
      "[[6 6]\n",
      " [3 3]]\n"
     ]
    }
   ],
   "source": [
    "# 会话控制\n",
    "# 创建两个矩阵\n",
    "m1 = tf.constant([[3,3]])\n",
    "m2 = tf.constant([[2],\n",
    "                  [1]])\n",
    "# product = tf.matmul(m1, m2)\n",
    "product = tf.multiply(m1, m2)\n",
    "with tf.Session() as sess:\n",
    "    res = sess.run(product)\n",
    "    print(res)\n",
    "\n"
   ]
  },
  {
   "cell_type": "code",
   "execution_count": 6,
   "metadata": {},
   "outputs": [
    {
     "name": "stdout",
     "output_type": "stream",
     "text": [
      "1\n",
      "2\n",
      "3\n"
     ]
    }
   ],
   "source": [
    "# tf中变量的操作\n",
    "state = tf.Variable(0, name='counter')\n",
    "one = tf.constant(1)\n",
    "new_value = tf.add(state, one)\n",
    "update = tf.assign(state, new_value)\n",
    "\n",
    "\n",
    "init = tf.global_variables_initializer()\n",
    "with tf.Session() as sess:\n",
    "    sess.run(init)\n",
    "    for _ in range(3):\n",
    "        sess.run(update)\n",
    "        print(sess.run(state))\n",
    "\n"
   ]
  },
  {
   "cell_type": "code",
   "execution_count": 7,
   "metadata": {},
   "outputs": [
    {
     "name": "stdout",
     "output_type": "stream",
     "text": [
      "369.0\n"
     ]
    }
   ],
   "source": [
    "# tf中的placeholder\n",
    "ip1 = tf.placeholder(tf.float32)\n",
    "ip2 = tf.placeholder(tf.float32)\n",
    "output = tf.multiply(ip1, ip2)\n",
    "with tf.Session() as sess:\n",
    "    print(sess.run(output, feed_dict={ip1:'123', ip2:3}))"
   ]
  },
  {
   "cell_type": "code",
   "execution_count": 141,
   "metadata": {},
   "outputs": [],
   "source": [
    "# def add_layer()\n",
    "def add_layer(inputs, in_size, out_size, activation_function=None):\n",
    "    with tf.name_scope('layer'):\n",
    "        with tf.name_scope('weights'):\n",
    "            Weights = tf.Variable(tf.random_normal([in_size, out_size]), name='w')\n",
    "        with tf.name_scope('biases'):\n",
    "            biases = tf.Variable(tf.zeros([1, out_size]) + .1, name='b')\n",
    "        with tf.name_scope('Wx_plus_b'):\n",
    "            Wx_plus_b = tf.matmul(inputs, Weights) + biases\n",
    "\n",
    "        if activation_function is None:\n",
    "            outputs = Wx_plus_b\n",
    "        else:\n",
    "            outputs = activation_function(Wx_plus_b)\n",
    "\n",
    "        return outputs"
   ]
  },
  {
   "cell_type": "code",
   "execution_count": 142,
   "metadata": {},
   "outputs": [],
   "source": [
    "x_data = np.linspace(-1, 1, 300, dtype=np.float32)[:, np.newaxis]\n",
    "noise = np.random.normal(0, 0.05, x_data.shape).astype(np.float32)\n",
    "y_data = np.square(x_data) - 0.5 + noise\n",
    "with tf.name_scope('inputs'):\n",
    "    xs = tf.placeholder(tf.float32, [None, 1], name='x_in')\n",
    "    ys = tf.placeholder(tf.float32, [None, 1], name='y_in')\n"
   ]
  },
  {
   "cell_type": "code",
   "execution_count": 143,
   "metadata": {},
   "outputs": [],
   "source": [
    "l1 = add_layer(xs, 1, 10, activation_function=tf.nn.relu)\n",
    "prediction = add_layer(l1, 10, 1, activation_function=None)\n",
    "with tf.name_scope('loss'):\n",
    "    loss = tf.reduce_mean(tf.reduce_sum(tf.square(ys - prediction), reduction_indices=[1]))\n",
    "with tf.name_scope('train'):\n",
    "    train_step = tf.train.GradientDescentOptimizer(0.1).minimize(loss)\n",
    "init = tf.global_variables_initializer()\n",
    "sess = tf.Session()\n",
    "sess.run(init)\n",
    "writer = tf.summary.FileWriter(\"/Users/wangqiang/logs/\", sess.graph)"
   ]
  },
  {
   "cell_type": "code",
   "execution_count": 140,
   "metadata": {},
   "outputs": [
    {
     "name": "stdout",
     "output_type": "stream",
     "text": [
      "0.30672792\n",
      "0.01371158\n",
      "0.009080271\n",
      "0.0076424694\n",
      "0.0064548426\n",
      "0.0056557944\n",
      "0.005130036\n",
      "0.0046990993\n",
      "0.004396775\n",
      "0.004188247\n",
      "0.0040160944\n",
      "0.003873399\n",
      "0.0037663237\n",
      "0.0036737234\n",
      "0.0036055732\n",
      "0.003546201\n",
      "0.0034893353\n",
      "0.0034465487\n",
      "0.0034085158\n",
      "0.0033857278\n"
     ]
    }
   ],
   "source": [
    "for i in range(1000):\n",
    "    # training\n",
    "    sess.run(train_step, feed_dict={xs: x_data, ys: y_data})\n",
    "    if i % 50 == 0:\n",
    "        print(sess.run(loss, feed_dict={xs: x_data, ys: y_data}))"
   ]
  },
  {
   "cell_type": "code",
   "execution_count": 131,
   "metadata": {},
   "outputs": [],
   "source": [
    "# # 全部注释\n",
    "# import matplotlib.pyplot as plt\n",
    "# # matplotlib 可视化\n",
    "# fig = plt.figure()\n",
    "# ax = fig.add_subplot(1, 1, 1)\n",
    "# ax.scatter(x_data, y_data)\n",
    "# plt.ion()\n",
    "# # plt.show()\n"
   ]
  },
  {
   "cell_type": "code",
   "execution_count": 132,
   "metadata": {},
   "outputs": [],
   "source": [
    "# # 全部注释\n",
    "# %matplotlib inline\n",
    "# # %matplotlib notebook\n",
    "# fig = plt.figure()\n",
    "# ax = fig.add_subplot(1, 1, 1)\n",
    "# ax.scatter(x_data, y_data)\n",
    "# plt.ion()\n",
    "# # plt.show()\n",
    "# for i in range(1000):\n",
    "#     # training\n",
    "    \n",
    "#     sess.run(train_step, feed_dict={xs: x_data, ys: y_data})\n",
    "#     if i % 50 == 0:\n",
    "# #         print(i)\n",
    "#         try:\n",
    "#             ax.lines.remove(lines[0])\n",
    "#         except Exception:\n",
    "#             pass\n",
    "#         prediction_value = sess.run(prediction, feed_dict={xs: x_data})\n",
    "# #         print(prediction_value)\n",
    "#         # plot the prediction value\n",
    "#         lines = ax.plot(x_data, prediction_value, 'r-', lw=5)\n",
    "        \n",
    "#         plt.pause(1)\n",
    "#         plt.show()\n",
    "        \n",
    "        \n",
    "# #         print(sess.run(loss, feed_dict={xs: x_data, ys: y_data}))\n",
    "    "
   ]
  },
  {
   "cell_type": "code",
   "execution_count": null,
   "metadata": {},
   "outputs": [],
   "source": []
  },
  {
   "cell_type": "code",
   "execution_count": null,
   "metadata": {},
   "outputs": [],
   "source": []
  },
  {
   "cell_type": "code",
   "execution_count": null,
   "metadata": {},
   "outputs": [],
   "source": []
  }
 ],
 "metadata": {
  "kernelspec": {
   "display_name": "Python 3",
   "language": "python",
   "name": "python3"
  },
  "language_info": {
   "codemirror_mode": {
    "name": "ipython",
    "version": 3
   },
   "file_extension": ".py",
   "mimetype": "text/x-python",
   "name": "python",
   "nbconvert_exporter": "python",
   "pygments_lexer": "ipython3",
   "version": "3.6.3"
  }
 },
 "nbformat": 4,
 "nbformat_minor": 2
}
