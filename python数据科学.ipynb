{
 "cells": [
  {
   "cell_type": "code",
   "execution_count": 1,
   "metadata": {},
   "outputs": [],
   "source": [
    "import pandas as pd\n",
    "import numpy as np"
   ]
  },
  {
   "cell_type": "code",
   "execution_count": 2,
   "metadata": {},
   "outputs": [
    {
     "name": "stdout",
     "output_type": "stream",
     "text": [
      "[[1 2 3 4 5]]\n"
     ]
    }
   ],
   "source": [
    "a = np.array([1, 2, 3,4,5], ndmin=2) \n",
    "print (a)"
   ]
  },
  {
   "cell_type": "code",
   "execution_count": 3,
   "metadata": {},
   "outputs": [
    {
     "name": "stdout",
     "output_type": "stream",
     "text": [
      "0    a\n",
      "1    b\n",
      "2    c\n",
      "3    d\n",
      "dtype: object\n"
     ]
    }
   ],
   "source": [
    "data = np.array(['a','b','c','d'])\n",
    "s = pd.Series(data)\n",
    "print(s)"
   ]
  },
  {
   "cell_type": "code",
   "execution_count": 4,
   "metadata": {},
   "outputs": [
    {
     "name": "stdout",
     "output_type": "stream",
     "text": [
      "       Age   Name\n",
      "rank1   28    Tom\n",
      "rank2   34   Jack\n",
      "rank3   29  Steve\n",
      "rank4   42  Ricky\n"
     ]
    }
   ],
   "source": [
    "data = {'Name':['Tom', 'Jack', 'Steve', 'Ricky'],'Age':[28,34,29,42]}\n",
    "df = pd.DataFrame(data, index=['rank1','rank2','rank3','rank4'])\n",
    "print(df)"
   ]
  },
  {
   "cell_type": "code",
   "execution_count": 5,
   "metadata": {},
   "outputs": [
    {
     "name": "stdout",
     "output_type": "stream",
     "text": [
      "<class 'pandas.core.panel.Panel'>\n",
      "Dimensions: 2 (items) x 4 (major_axis) x 3 (minor_axis)\n",
      "Items axis: Item1 to Item2\n",
      "Major_axis axis: 0 to 3\n",
      "Minor_axis axis: 0 to 2\n"
     ]
    }
   ],
   "source": [
    "data = {'Item1' : pd.DataFrame(np.random.randn(4, 3)), \n",
    "        'Item2' : pd.DataFrame(np.random.randn(4, 2))}\n",
    "p = pd.Panel(data)\n",
    "print(p)"
   ]
  },
  {
   "cell_type": "code",
   "execution_count": 6,
   "metadata": {},
   "outputs": [
    {
     "name": "stdout",
     "output_type": "stream",
     "text": [
      "        one       two     three\n",
      "a -0.830444  1.734032  0.587086\n",
      "b       NaN       NaN       NaN\n",
      "c -1.186551  0.189169  1.695726\n",
      "d       NaN       NaN       NaN\n",
      "e  2.567796  1.043327  1.894093\n",
      "f  0.789795  1.977106  1.057169\n",
      "g       NaN       NaN       NaN\n",
      "h -1.444071  0.681254  0.122113\n"
     ]
    }
   ],
   "source": [
    "df = pd.DataFrame(np.random.randn(5, 3), index=['a', 'c', 'e', 'f',\n",
    "'h'],columns=['one', 'two', 'three'])\n",
    "\n",
    "df = df.reindex(['a', 'b', 'c', 'd', 'e', 'f', 'g', 'h'])\n",
    "\n",
    "print (df)"
   ]
  },
  {
   "cell_type": "code",
   "execution_count": 7,
   "metadata": {},
   "outputs": [
    {
     "name": "stdout",
     "output_type": "stream",
     "text": [
      "a    False\n",
      "b     True\n",
      "c    False\n",
      "d     True\n",
      "e    False\n",
      "f    False\n",
      "g     True\n",
      "h    False\n",
      "Name: one, dtype: bool\n"
     ]
    }
   ],
   "source": [
    "df = pd.DataFrame(np.random.randn(5, 3), index=['a', 'c', 'e', 'f',\n",
    "'h'],columns=['one', 'two', 'three'])\n",
    "\n",
    "df = df.reindex(['a', 'b', 'c', 'd', 'e', 'f', 'g', 'h'])\n",
    "\n",
    "print (df['one'].isnull())\n"
   ]
  },
  {
   "cell_type": "code",
   "execution_count": 8,
   "metadata": {},
   "outputs": [
    {
     "name": "stdout",
     "output_type": "stream",
     "text": [
      "    one   two  three\n",
      "a   1.0   2.0    3.0\n",
      "b   NaN   NaN    NaN\n",
      "c  11.0  22.0   33.0\n",
      "NaN replaced with '0':\n",
      "    one   two  three\n",
      "a   1.0   2.0    3.0\n",
      "b   0.0   0.0    0.0\n",
      "c  11.0  22.0   33.0\n"
     ]
    }
   ],
   "source": [
    "df = pd.DataFrame(np.array([[1,2,3],[11,22,33],[111,222,333]]), index=['a', 'c', 'e'],columns=['one',\n",
    "'two', 'three'])\n",
    "df = df.reindex(['a', 'b', 'c'])\n",
    "print (df)\n",
    "print (\"NaN replaced with '0':\")\n",
    "print (df.fillna(0))\n"
   ]
  },
  {
   "cell_type": "code",
   "execution_count": 9,
   "metadata": {},
   "outputs": [
    {
     "name": "stdout",
     "output_type": "stream",
     "text": [
      "        one       two     three\n",
      "a -0.742748 -0.865475  0.634346\n",
      "b       NaN       NaN       NaN\n",
      "c  0.693414  2.155858 -0.455147\n",
      "d       NaN       NaN       NaN\n",
      "e  1.189162 -0.614402 -0.520733\n",
      "f  0.061186 -0.898079  1.240132\n",
      "g       NaN       NaN       NaN\n",
      "h -1.275287 -0.557451 -1.334758\n"
     ]
    }
   ],
   "source": [
    "df = pd.DataFrame(np.random.randn(5, 3), index=['a', 'c', 'e', 'f',\n",
    "'h'],columns=['one', 'two', 'three'])\n",
    "df = df.reindex(['a', 'b', 'c', 'd', 'e', 'f', 'g', 'h'])\n",
    "print(df)\n",
    "# print (df.fillna(method='pad'))"
   ]
  },
  {
   "cell_type": "code",
   "execution_count": 10,
   "metadata": {},
   "outputs": [
    {
     "name": "stdout",
     "output_type": "stream",
     "text": [
      "   one  two\n",
      "0   10   10\n",
      "1   20    0\n",
      "2   30   30\n",
      "3   40   40\n",
      "4   50   50\n",
      "5   60   60\n"
     ]
    }
   ],
   "source": [
    "df = pd.DataFrame({'one':[10,20,30,40,50,2000],\n",
    "'two':[1000,0,30,40,50,60]})\n",
    "print (df.replace({1000:10,2000:60}))\n"
   ]
  },
  {
   "cell_type": "code",
   "execution_count": 11,
   "metadata": {},
   "outputs": [
    {
     "name": "stdout",
     "output_type": "stream",
     "text": [
      "   id    name  salary  start_date        dept\n",
      "0   1    Rick  623.30  2012-01-01          IT\n",
      "1   2     Dan  515.20  2013-09-23  Operations\n",
      "2   3   Tusar  611.00  2014-11-15          IT\n",
      "3   4    Ryan  729.00  2014-05-11          HR\n",
      "4   5    Gary  843.25  2015-03-27     Finance\n",
      "5   6   Rasmi  578.00  2013-05-21          IT\n",
      "6   7  Pranab  632.80  2013-07-30  Operations\n",
      "7   8    Guru  722.50  2014-06-17     Finance\n"
     ]
    }
   ],
   "source": [
    "data = pd.read_csv('input.csv')\n",
    "print (data)"
   ]
  },
  {
   "cell_type": "code",
   "execution_count": 12,
   "metadata": {},
   "outputs": [
    {
     "name": "stdout",
     "output_type": "stream",
     "text": [
      "0    623.30\n",
      "1    515.20\n",
      "2    611.00\n",
      "3    729.00\n",
      "4    843.25\n",
      "Name: salary, dtype: float64\n"
     ]
    }
   ],
   "source": [
    "print (data['salary'][0:5])"
   ]
  },
  {
   "cell_type": "code",
   "execution_count": 13,
   "metadata": {},
   "outputs": [
    {
     "name": "stdout",
     "output_type": "stream",
     "text": [
      "   salary    name\n",
      "0  623.30    Rick\n",
      "1  515.20     Dan\n",
      "2  611.00   Tusar\n",
      "3  729.00    Ryan\n",
      "4  843.25    Gary\n",
      "5  578.00   Rasmi\n",
      "6  632.80  Pranab\n",
      "7  722.50    Guru\n"
     ]
    }
   ],
   "source": [
    "print (data.loc[:,['salary','name']])\n"
   ]
  },
  {
   "cell_type": "code",
   "execution_count": 14,
   "metadata": {},
   "outputs": [
    {
     "name": "stdout",
     "output_type": "stream",
     "text": [
      "         Dept  ID      Name  Salary   StartDate\n",
      "0          IT   1      Rick  623.30    1/1/2012\n",
      "1  Operations   2       Dan  515.20   9/23/2013\n",
      "2          IT   3  Michelle  611.00  11/15/2014\n",
      "3          HR   4      Ryan  729.00   5/11/2014\n",
      "4     Finance   5      Gary  843.25   3/27/2015\n",
      "5          IT   6      Nina  578.00   5/21/2013\n",
      "6  Operations   7     Simon  632.80   7/30/2013\n",
      "7     Finance   8      Guru  722.50   6/17/2014\n"
     ]
    }
   ],
   "source": [
    "data = pd.read_json('input.json')\n",
    "print (data)\n"
   ]
  },
  {
   "cell_type": "code",
   "execution_count": 15,
   "metadata": {},
   "outputs": [
    {
     "data": {
      "text/plain": [
       "[<matplotlib.lines.Line2D at 0x106f07e48>]"
      ]
     },
     "execution_count": 15,
     "metadata": {},
     "output_type": "execute_result"
    },
    {
     "data": {
      "image/png": "[encoded data removed]",
      "text/plain": [
       "<Figure size 432x288 with 1 Axes>"
      ]
     },
     "metadata": {},
     "output_type": "display_data"
    }
   ],
   "source": [
    "import numpy as np \n",
    "import matplotlib.pyplot as plt \n",
    "%matplotlib inline\n",
    "\n",
    "x = np.arange(0,10) \n",
    "y = x ^ 2\n",
    "plt.title(\"Graph Drawing\") \n",
    "plt.xlabel(\"Time\") \n",
    "plt.ylabel(\"Distance\") \n",
    "#Simple Plot\n",
    "plt.plot(x,y)"
   ]
  },
  {
   "cell_type": "code",
   "execution_count": 16,
   "metadata": {},
   "outputs": [
    {
     "data": {
      "text/plain": [
       "[<matplotlib.lines.Line2D at 0x1080423c8>]"
      ]
     },
     "execution_count": 16,
     "metadata": {},
     "output_type": "execute_result"
    },
    {
     "data": {
      "image/png": "[encoded data removed]",
      "text/plain": [
       "<Figure size 432x288 with 1 Axes>"
      ]
     },
     "metadata": {},
     "output_type": "display_data"
    }
   ],
   "source": [
    "x = np.arange(0,10) \n",
    "y = x ^ 2 \n",
    "#Labeling the Axes and Title\n",
    "plt.title(\"Graph Drawing\") \n",
    "plt.xlabel(\"Time\") \n",
    "plt.ylabel(\"Distance\") \n",
    "\n",
    "# Formatting the line colors\n",
    "plt.plot(x,y,'r')\n",
    "\n",
    "# Formatting the line type  \n",
    "plt.plot(x,y,'v')"
   ]
  },
  {
   "cell_type": "code",
   "execution_count": 17,
   "metadata": {},
   "outputs": [
    {
     "data": {
      "text/plain": [
       "<matplotlib.legend.Legend at 0x1080e87b8>"
      ]
     },
     "execution_count": 17,
     "metadata": {},
     "output_type": "execute_result"
    },
    {
     "data": {
      "image/png": "[encoded data removed]",
      "text/plain": [
       "<Figure size 432x288 with 1 Axes>"
      ]
     },
     "metadata": {},
     "output_type": "display_data"
    }
   ],
   "source": [
    "x = np.arange(0,10) \n",
    "y = x ^ 2 \n",
    "z = x ^ 3\n",
    "t = x ^ 4 \n",
    "# Labeling the Axes and Title\n",
    "plt.title(\"Graph Drawing\") \n",
    "plt.xlabel(\"Time\") \n",
    "plt.ylabel(\"Distance\") \n",
    "plt.plot(x,y)\n",
    "\n",
    "#Annotate\n",
    "plt.annotate(xy=[2,1], s='Second Entry') \n",
    "plt.annotate(xy=[4,6], s='Third Entry') \n",
    "# Adding Legends\n",
    "plt.style.use('fast')\n",
    "plt.plot(x,z)\n",
    "plt.plot(x,t)\n",
    "plt.legend(['Race1', 'Race2','Race3'], loc=4)\n"
   ]
  },
  {
   "cell_type": "code",
   "execution_count": 18,
   "metadata": {},
   "outputs": [
    {
     "name": "stdout",
     "output_type": "stream",
     "text": [
      "[[0.95303047 0.35422593 0.64886983 0.57846821 0.88331391]\n",
      " [0.86916815 0.95423931 0.18003353 0.18532815 0.79763778]\n",
      " [0.82931357 0.78264984 0.63549618 0.53948037 0.93422023]\n",
      " [0.42274576 0.14092259 0.37936115 0.95605808 0.44724135]\n",
      " [0.22124794 0.62486411 0.41197809 0.43046462 0.68149242]\n",
      " [0.93650554 0.70370442 0.91246037 0.77171013 0.57346238]\n",
      " [0.25109511 0.49331285 0.28737062 0.80588589 0.24625559]\n",
      " [0.85128331 0.13065163 0.90000994 0.23900323 0.89603001]\n",
      " [0.73783054 0.71527482 0.97333425 0.70502814 0.60252773]\n",
      " [0.6137337  0.98976786 0.19088826 0.45392876 0.72699793]]\n"
     ]
    },
    {
     "name": "stderr",
     "output_type": "stream",
     "text": [
      "/Users/John/python_project/deeplearning/venv/lib/python3.6/site-packages/matplotlib/cbook/deprecation.py:107: MatplotlibDeprecationWarning: Passing one of 'on', 'true', 'off', 'false' as a boolean is deprecated; use an actual boolean (True/False) instead.\n",
      "  warnings.warn(message, mplDeprecation, stacklevel=1)\n"
     ]
    },
    {
     "data": {
      "text/plain": [
       "<matplotlib.axes._subplots.AxesSubplot at 0x107f80e48>"
      ]
     },
     "execution_count": 18,
     "metadata": {},
     "output_type": "execute_result"
    },
    {
     "data": {
      "image/png": "[encoded data removed]",
      "text/plain": [
       "<Figure size 432x288 with 1 Axes>"
      ]
     },
     "metadata": {},
     "output_type": "display_data"
    }
   ],
   "source": [
    "import pandas as pd\n",
    "import numpy as np\n",
    "print(np.random.rand(10,5))\n",
    "df = pd.DataFrame(np.random.rand(10, 5), columns=['A', 'B', 'C', 'D', 'E'])\n",
    "df.plot.box(grid='True')\n"
   ]
  },
  {
   "cell_type": "code",
   "execution_count": 19,
   "metadata": {},
   "outputs": [
    {
     "data": {
      "image/png": "[encoded data removed]",
      "text/plain": [
       "<Figure size 432x288 with 1 Axes>"
      ]
     },
     "metadata": {},
     "output_type": "display_data"
    }
   ],
   "source": [
    "from pandas import DataFrame\n",
    "import matplotlib.pyplot as plt\n",
    "\n",
    "data=[{2,3,4,1},{6,3,5,2},{6,3,5,4},{3,7,5,4},{2,8,1,5}]\n",
    "Index= ['I1', 'I2','I3','I4','I5']\n",
    "Cols = ['C1', 'C2', 'C3','C4']\n",
    "df = DataFrame(data, index=Index, columns=Cols)\n",
    "\n",
    "plt.pcolor(df)\n",
    "plt.show()"
   ]
  },
  {
   "cell_type": "code",
   "execution_count": 20,
   "metadata": {},
   "outputs": [
    {
     "data": {
      "text/plain": [
       "array([0, 1])"
      ]
     },
     "execution_count": 20,
     "metadata": {},
     "output_type": "execute_result"
    }
   ],
   "source": [
    "np.arange(2)"
   ]
  },
  {
   "cell_type": "code",
   "execution_count": 21,
   "metadata": {},
   "outputs": [
    {
     "data": {
      "text/plain": [
       "<matplotlib.axes._subplots.AxesSubplot at 0x108377400>"
      ]
     },
     "execution_count": 21,
     "metadata": {},
     "output_type": "execute_result"
    },
    {
     "data": {
      "image/png": "[encoded data removed]",
      "text/plain": [
       "<Figure size 432x288 with 1 Axes>"
      ]
     },
     "metadata": {},
     "output_type": "display_data"
    }
   ],
   "source": [
    "import pandas as pd\n",
    "import numpy as np\n",
    "df = pd.DataFrame(np.random.rand(50, 4), columns=['a', 'b', 'c', 'd'])\n",
    "df.plot.scatter(x='a', y='b')"
   ]
  },
  {
   "cell_type": "code",
   "execution_count": 22,
   "metadata": {},
   "outputs": [],
   "source": [
    "import matplotlib.pyplot as plt"
   ]
  },
  {
   "cell_type": "code",
   "execution_count": null,
   "metadata": {},
   "outputs": [],
   "source": []
  }
 ],
 "metadata": {
  "kernelspec": {
   "display_name": "Python 3",
   "language": "python",
   "name": "python3"
  },
  "language_info": {
   "codemirror_mode": {
    "name": "ipython",
    "version": 3
   },
   "file_extension": ".py",
   "mimetype": "text/x-python",
   "name": "python",
   "nbconvert_exporter": "python",
   "pygments_lexer": "ipython3",
   "version": "3.6.3"
  }
 },
 "nbformat": 4,
 "nbformat_minor": 2
}
